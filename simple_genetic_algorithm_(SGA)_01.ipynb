{
 "cells": [
  {
   "cell_type": "code",
   "execution_count": null,
   "metadata": {},
   "outputs": [],
   "source": [
    "import numpy as np\n",
    "import pandas as pd\n",
    "import matplotlib.pyplot as plt\n",
    "\n",
    "from typing import Iterable, Tuple, List, Callable"
   ]
  },
  {
   "cell_type": "code",
   "execution_count": null,
   "metadata": {},
   "outputs": [],
   "source": [
    "def objective_func(x):\n",
    "    return x * np.sin(10 * np.pi * x) + 2.0"
   ]
  },
  {
   "cell_type": "code",
   "execution_count": null,
   "metadata": {},
   "outputs": [],
   "source": [
    "CHROMOSOME_SIZE = 12\n",
    "POPULATION_SIZE = 6\n",
    "CROSSOVER_RATE = 0.8\n",
    "\n",
    "x_min = -1\n",
    "x_max = 2"
   ]
  },
  {
   "cell_type": "markdown",
   "metadata": {},
   "source": [
    "x_range = np.linspace(x_min,x_max, 100)\n",
    "y_range = objective_func(x_range)\n",
    "plt.plot(x_range, objective_func(x_range))"
   ]
  },
  {
   "cell_type": "code",
   "execution_count": null,
   "metadata": {},
   "outputs": [],
   "source": [
    "def initialize_genotype_population(population_size, chromo_size):\n",
    "    \n",
    "    x = np.random.randint(low = 0, high = 2, size = (population_size, chromo_size), dtype=bool)\n",
    "    \n",
    "    return x"
   ]
  },
  {
   "cell_type": "code",
   "execution_count": null,
   "metadata": {},
   "outputs": [],
   "source": [
    "def binary_to_float(bin_arr, a = 0, b = 1):\n",
    "    \n",
    "    bit_num = bin_arr.shape[-1]\n",
    "    \n",
    "    dec = bin_arr @ np.power(2, np.arange(bit_num))\n",
    "    \n",
    "    zero_one_range = dec / (2**bit_num)\n",
    "    \n",
    "    real_arr = zero_one_range * (b - a) + a\n",
    "    \n",
    "    return real_arr"
   ]
  },
  {
   "cell_type": "code",
   "execution_count": null,
   "metadata": {},
   "outputs": [],
   "source": [
    "def evaluate(x_phenotype: Iterable, objective_func: Callable):\n",
    "    return objective_func(x_phenotype)"
   ]
  },
  {
   "cell_type": "code",
   "execution_count": null,
   "metadata": {},
   "outputs": [],
   "source": [
    "def calc_relative_fittness(evals: Iterable):\n",
    "    return evals/np.sum(evals)"
   ]
  },
  {
   "cell_type": "code",
   "execution_count": null,
   "metadata": {},
   "outputs": [],
   "source": [
    "def create_mating_pool(genotype_arr, prob_arr):    \n",
    "    indeces = np.random.choice(np.arange(len(prob_arr)), size=len(genotype_arr), replace=True, p=prob_arr)\n",
    "    return genotype_arr[indeces]"
   ]
  },
  {
   "cell_type": "code",
   "execution_count": null,
   "metadata": {},
   "outputs": [],
   "source": [
    "def single_point_crossover(x: List):\n",
    "    \n",
    "    x0 = x[0]\n",
    "    x1 = x[1]\n",
    "    \n",
    "    point = np.random.randint(low = 1, high = x.shape[1])\n",
    "    \n",
    "    x1[:point], x0[:point] = x0[:point], x1[:point].copy()\n",
    "    \n",
    "    return x"
   ]
  },
  {
   "cell_type": "code",
   "execution_count": null,
   "metadata": {},
   "outputs": [],
   "source": [
    "def flip_bit_mutate(x: np.array, mutation_rate: float = 0.1):\n",
    "    \n",
    "    probs = np.random.rand(x.shape[0], x.shape[1])\n",
    "    \n",
    "    mutat_mask = probs < mutation_rate\n",
    "    \n",
    "    x_mutated = x.chopy()\n",
    "    \n",
    "    x_mutated[mutat_mask] = ~x_mutated[mutat_mask]\n",
    "    \n",
    "    return x_mutated\n",
    "    "
   ]
  },
  {
   "cell_type": "code",
   "execution_count": null,
   "metadata": {},
   "outputs": [],
   "source": [
    "def split_to_chunks(x: Iterable, n: int = 2):\n",
    "    '''\n",
    "    splits x array into evenly sized chunks. \n",
    "    \n",
    "    x: array to split into chunks.\n",
    "    n: number of elements in chunks.\n",
    "    '''\n",
    "    assert len(x) % n == 0, 'length of x should be divisible on n with remainder equal to 0.'\n",
    "    \n",
    "    for i in range(0, len(x), n):\n",
    "        yield x[i:i + n]  "
   ]
  },
  {
   "cell_type": "code",
   "execution_count": null,
   "metadata": {},
   "outputs": [],
   "source": [
    "def create_next_generation(x: Iterable, splitter: Callable, crossover: Callable, mutate: Callable, crossover_rate: float = 0.5, mutation_rate: float = 0.4):\n",
    "    '''\n",
    "    Performs crossover of individuals.\n",
    "    \n",
    "    x: mating pool of individuals to perform crossover on (2d array). dim0 - is individuals, dim1 - genes;\n",
    "    crossover_rate: number bewteen 0 and 1. probability that given two individuals perform a crossover. \n",
    "    if two individuals do not perform a crossover according to probability crossover_rate, their off-spring are themselves. \n",
    "    \n",
    "    '''\n",
    "    new_generation = []\n",
    "    \n",
    "    np.random.shuffle(x)\n",
    "    \n",
    "    chunks = splitter(x)\n",
    "\n",
    "    for ch in chunks:\n",
    "        \n",
    "        if np.random.rand() < crossover_rate:\n",
    "            ch = crossover(ch)\n",
    "            \n",
    "        ch = mutate(ch, mutation_rate)\n",
    "            \n",
    "        new_generation.extend(ch)\n",
    "            \n",
    "    return np.array(new_generation)"
   ]
  },
  {
   "cell_type": "code",
   "execution_count": null,
   "metadata": {
    "scrolled": true
   },
   "outputs": [],
   "source": [
    "x1 = np.random.randint(low=0, high=2,size=(1, 3, 12), dtype=bool)\n",
    "x2 = np.array([[1, 1, 0, 1, 0, 1, 1, 0, 0, 1, 0, 1],\n",
    "               [1, 1, 0, 1, 0, 1, 1, 0, 0, 1, 0, 1],\n",
    "               [1, 1, 0, 1, 0, 1, 1, 0, 0, 1, 0, 1]], dtype=bool)\n",
    "x2 =np.expand_dims(x2,axis=0)\n",
    "x = np.concatenate((x1, x2), axis=0)\n",
    "x.shape"
   ]
  },
  {
   "cell_type": "code",
   "execution_count": null,
   "metadata": {},
   "outputs": [],
   "source": [
    "#create first binary population\n",
    "x_genotype = initialize_genotype_population(10000, CHROMOSOME_SIZE)\n",
    "x_genotype"
   ]
  },
  {
   "cell_type": "code",
   "execution_count": null,
   "metadata": {},
   "outputs": [],
   "source": [
    "%%time\n",
    "#convert binary population to float one\n",
    "\n",
    "x_phenotype = binary_to_float(x_genotype, x_min, x_max)"
   ]
  },
  {
   "cell_type": "code",
   "execution_count": null,
   "metadata": {},
   "outputs": [],
   "source": [
    "%%time\n",
    "#evaluate each individual (calculate fittness values) according to objective function \n",
    "\n",
    "evals = evaluate(x_phenotype, objective_func)\n",
    "evals.shape"
   ]
  },
  {
   "cell_type": "code",
   "execution_count": null,
   "metadata": {},
   "outputs": [],
   "source": [
    "%%time\n",
    "#using fittness values calculate probabilities of being selected for mating pool\n",
    "\n",
    "rel_fittness_vals = calc_relative_fittness(evals)\n",
    "rel_fittness_vals.shape"
   ]
  },
  {
   "cell_type": "code",
   "execution_count": null,
   "metadata": {},
   "outputs": [],
   "source": [
    "mating_pool = create_mating_pool(x_genotype, rel_fittness_vals)"
   ]
  },
  {
   "cell_type": "code",
   "execution_count": null,
   "metadata": {},
   "outputs": [],
   "source": [
    "mating_pool.shape"
   ]
  },
  {
   "cell_type": "code",
   "execution_count": null,
   "metadata": {},
   "outputs": [],
   "source": [
    "current_gen = create_next_generation(mating_pool, split_to_chunks, single_point_crossover, flip_bit_mutate, crossover_rate=0.8, mutation_rate=0.6)"
   ]
  },
  {
   "cell_type": "code",
   "execution_count": null,
   "metadata": {},
   "outputs": [],
   "source": [
    "current_gen.astype(int)"
   ]
  },
  {
   "cell_type": "code",
   "execution_count": null,
   "metadata": {},
   "outputs": [],
   "source": [
    "mating_pool.astype(int)"
   ]
  },
  {
   "cell_type": "code",
   "execution_count": null,
   "metadata": {},
   "outputs": [],
   "source": []
  },
  {
   "cell_type": "code",
   "execution_count": null,
   "metadata": {},
   "outputs": [],
   "source": []
  }
 ],
 "metadata": {
  "kernelspec": {
   "display_name": "Python 3",
   "language": "python",
   "name": "python3"
  },
  "language_info": {
   "codemirror_mode": {
    "name": "ipython",
    "version": 3
   },
   "file_extension": ".py",
   "mimetype": "text/x-python",
   "name": "python",
   "nbconvert_exporter": "python",
   "pygments_lexer": "ipython3",
   "version": "3.7.6"
  }
 },
 "nbformat": 4,
 "nbformat_minor": 4
}
