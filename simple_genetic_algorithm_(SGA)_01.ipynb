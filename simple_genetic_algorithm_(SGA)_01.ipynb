{
 "cells": [
  {
   "cell_type": "code",
   "execution_count": 1,
   "metadata": {},
   "outputs": [],
   "source": [
    "import numpy as np\n",
    "import pandas as pd\n",
    "import matplotlib.pyplot as plt\n",
    "\n",
    "from typing import Iterable, Tuple, List, Callable"
   ]
  },
  {
   "cell_type": "code",
   "execution_count": 2,
   "metadata": {},
   "outputs": [],
   "source": [
    "def objective_func(x):\n",
    "    return x * np.sin(10 * np.pi * x) + 2.0"
   ]
  },
  {
   "cell_type": "code",
   "execution_count": 68,
   "metadata": {},
   "outputs": [
    {
     "name": "stdout",
     "output_type": "stream",
     "text": [
      "6\n"
     ]
    }
   ],
   "source": [
    "CHROMOSOME_SIZE = 12\n",
    "POPULATION_SIZE = 6\n",
    "CROSSOVER_RATE = 0.8\n",
    "\n",
    "x_min = -1\n",
    "x_max = 2"
   ]
  },
  {
   "cell_type": "markdown",
   "metadata": {},
   "source": [
    "x_range = np.linspace(x_min,x_max, 100)\n",
    "y_range = objective_func(x_range)\n",
    "plt.plot(x_range, objective_func(x_range))"
   ]
  },
  {
   "cell_type": "code",
   "execution_count": 145,
   "metadata": {},
   "outputs": [],
   "source": [
    "def bin_to_float(bin_arr, a = 0, b = 1):\n",
    "    \n",
    "    arr_len = len(bin_arr)\n",
    "    \n",
    "    dec = bin_arr @ np.power(2, np.arange(arr_len))\n",
    "    \n",
    "    zero_one_range = dec / (2**arr_len)\n",
    "    \n",
    "    real_num = zero_one_range * (b - a) + a\n",
    "    \n",
    "    return real_num\n",
    "\n",
    "def initialize_genotype_population(population_size, chromo_size):\n",
    "    \n",
    "    x = np.random.randint(low = 0, high = 2, size = (population_size, chromo_size), dtype=bool)\n",
    "    \n",
    "    return x\n",
    "    \n",
    "\n",
    "def genotype_to_phenotype(x, x_min=0, x_max=1):\n",
    "    \n",
    "    df = pd.DataFrame(x)\n",
    "    \n",
    "    return df.apply(bin_to_float, axis=1, raw=True, a=x_min, b=x_max)"
   ]
  },
  {
   "cell_type": "code",
   "execution_count": 132,
   "metadata": {},
   "outputs": [],
   "source": [
    "def bin_to_float(bin_arr, a = 0, b = 1):\n",
    "    \n",
    "    arr_len = bin_arr.shape[-1]\n",
    "    \n",
    "    dec = bin_arr @ np.power(2, np.arange(arr_len))\n",
    "    \n",
    "    zero_one_range = dec / (2**arr_len)\n",
    "    \n",
    "    real_arr = zero_one_range * (b - a) + a\n",
    "    \n",
    "    return real_arr"
   ]
  },
  {
   "cell_type": "code",
   "execution_count": null,
   "metadata": {},
   "outputs": [],
   "source": []
  },
  {
   "cell_type": "code",
   "execution_count": null,
   "metadata": {},
   "outputs": [],
   "source": []
  },
  {
   "cell_type": "code",
   "execution_count": null,
   "metadata": {},
   "outputs": [],
   "source": []
  },
  {
   "cell_type": "code",
   "execution_count": 146,
   "metadata": {},
   "outputs": [],
   "source": [
    "def evaluate(x_phenotype):\n",
    "    return x_phenotype.map(objective_func)"
   ]
  },
  {
   "cell_type": "code",
   "execution_count": 156,
   "metadata": {
    "scrolled": true
   },
   "outputs": [
    {
     "data": {
      "text/plain": [
       "array([[False,  True, False,  True, False,  True, False, False, False,\n",
       "        False, False,  True],\n",
       "       [ True,  True,  True, False, False,  True,  True, False,  True,\n",
       "        False,  True,  True],\n",
       "       [ True,  True, False, False,  True,  True, False, False,  True,\n",
       "         True,  True,  True],\n",
       "       [False,  True,  True,  True,  True, False,  True,  True,  True,\n",
       "         True,  True, False],\n",
       "       [ True,  True, False,  True, False,  True,  True, False, False,\n",
       "         True, False,  True]])"
      ]
     },
     "execution_count": 156,
     "metadata": {},
     "output_type": "execute_result"
    }
   ],
   "source": [
    "x = np.concatenate((np.random.randint(low=0, high=2,size=(4, 12),dtype=bool),np.array([[1, 1, 0, 1, 0, 1, 1, 0, 0, 1, 0, 1]], dtype=bool)))\n",
    "x"
   ]
  },
  {
   "cell_type": "code",
   "execution_count": 157,
   "metadata": {},
   "outputs": [],
   "source": [
    "x_int = x.astype(int)"
   ]
  },
  {
   "cell_type": "code",
   "execution_count": 158,
   "metadata": {},
   "outputs": [
    {
     "data": {
      "text/plain": [
       "array([[0, 1, 0, 1, 0, 1, 0, 0, 0, 0, 0, 1],\n",
       "       [1, 1, 1, 0, 0, 1, 1, 0, 1, 0, 1, 1],\n",
       "       [1, 1, 0, 0, 1, 1, 0, 0, 1, 1, 1, 1],\n",
       "       [0, 1, 1, 1, 1, 0, 1, 1, 1, 1, 1, 0],\n",
       "       [1, 1, 0, 1, 0, 1, 1, 0, 0, 1, 0, 1]])"
      ]
     },
     "execution_count": 158,
     "metadata": {},
     "output_type": "execute_result"
    }
   ],
   "source": [
    "x_int"
   ]
  },
  {
   "cell_type": "code",
   "execution_count": 159,
   "metadata": {},
   "outputs": [
    {
     "ename": "ValueError",
     "evalue": "matmul: Input operand 1 has a mismatch in its core dimension 0, with gufunc signature (n?,k),(k,m?)->(n?,m?) (size 5 is different from 12)",
     "output_type": "error",
     "traceback": [
      "\u001b[0;31m---------------------------------------------------------------------------\u001b[0m",
      "\u001b[0;31mValueError\u001b[0m                                Traceback (most recent call last)",
      "\u001b[0;32m<ipython-input-159-b90809f052fd>\u001b[0m in \u001b[0;36m<module>\u001b[0;34m\u001b[0m\n\u001b[0;32m----> 1\u001b[0;31m \u001b[0mbin_to_float\u001b[0m\u001b[0;34m(\u001b[0m\u001b[0mx\u001b[0m\u001b[0;34m,\u001b[0m \u001b[0;34m-\u001b[0m\u001b[0;36m1\u001b[0m\u001b[0;34m,\u001b[0m \u001b[0;36m2\u001b[0m\u001b[0;34m)\u001b[0m\u001b[0;34m\u001b[0m\u001b[0;34m\u001b[0m\u001b[0m\n\u001b[0m",
      "\u001b[0;32m<ipython-input-145-f48e8fcf55fb>\u001b[0m in \u001b[0;36mbin_to_float\u001b[0;34m(bin_arr, a, b)\u001b[0m\n\u001b[1;32m      3\u001b[0m     \u001b[0marr_len\u001b[0m \u001b[0;34m=\u001b[0m \u001b[0mlen\u001b[0m\u001b[0;34m(\u001b[0m\u001b[0mbin_arr\u001b[0m\u001b[0;34m)\u001b[0m\u001b[0;34m\u001b[0m\u001b[0;34m\u001b[0m\u001b[0m\n\u001b[1;32m      4\u001b[0m \u001b[0;34m\u001b[0m\u001b[0m\n\u001b[0;32m----> 5\u001b[0;31m     \u001b[0mdec\u001b[0m \u001b[0;34m=\u001b[0m \u001b[0mbin_arr\u001b[0m \u001b[0;34m@\u001b[0m \u001b[0mnp\u001b[0m\u001b[0;34m.\u001b[0m\u001b[0mpower\u001b[0m\u001b[0;34m(\u001b[0m\u001b[0;36m2\u001b[0m\u001b[0;34m,\u001b[0m \u001b[0mnp\u001b[0m\u001b[0;34m.\u001b[0m\u001b[0marange\u001b[0m\u001b[0;34m(\u001b[0m\u001b[0marr_len\u001b[0m\u001b[0;34m)\u001b[0m\u001b[0;34m)\u001b[0m\u001b[0;34m\u001b[0m\u001b[0;34m\u001b[0m\u001b[0m\n\u001b[0m\u001b[1;32m      6\u001b[0m \u001b[0;34m\u001b[0m\u001b[0m\n\u001b[1;32m      7\u001b[0m     \u001b[0mzero_one_range\u001b[0m \u001b[0;34m=\u001b[0m \u001b[0mdec\u001b[0m \u001b[0;34m/\u001b[0m \u001b[0;34m(\u001b[0m\u001b[0;36m2\u001b[0m\u001b[0;34m**\u001b[0m\u001b[0marr_len\u001b[0m\u001b[0;34m)\u001b[0m\u001b[0;34m\u001b[0m\u001b[0;34m\u001b[0m\u001b[0m\n",
      "\u001b[0;31mValueError\u001b[0m: matmul: Input operand 1 has a mismatch in its core dimension 0, with gufunc signature (n?,k),(k,m?)->(n?,m?) (size 5 is different from 12)"
     ]
    }
   ],
   "source": [
    "bin_to_float(x, -1, 2)"
   ]
  },
  {
   "cell_type": "code",
   "execution_count": 140,
   "metadata": {},
   "outputs": [],
   "source": [
    "x_int = np.random.randint(0,2,size=(2,3,12),dtype=bool)"
   ]
  },
  {
   "cell_type": "code",
   "execution_count": 141,
   "metadata": {},
   "outputs": [
    {
     "data": {
      "text/plain": [
       "array([[[False, False, False,  True, False, False,  True, False, False,\n",
       "         False,  True,  True],\n",
       "        [False, False,  True,  True, False, False, False,  True,  True,\n",
       "         False,  True,  True],\n",
       "        [False,  True, False,  True, False,  True,  True,  True, False,\n",
       "         False,  True,  True]],\n",
       "\n",
       "       [[False,  True,  True, False, False,  True,  True,  True, False,\n",
       "         False, False, False],\n",
       "        [False,  True, False, False,  True,  True,  True,  True,  True,\n",
       "         False, False, False],\n",
       "        [False,  True, False,  True,  True, False, False,  True, False,\n",
       "         False,  True, False]]])"
      ]
     },
     "execution_count": 141,
     "metadata": {},
     "output_type": "execute_result"
    }
   ],
   "source": [
    "x_int"
   ]
  },
  {
   "cell_type": "code",
   "execution_count": 142,
   "metadata": {},
   "outputs": [
    {
     "data": {
      "text/plain": [
       "array([[0.76757812, 0.84667969, 0.80712891],\n",
       "       [0.05615234, 0.12158203, 0.28759766]])"
      ]
     },
     "execution_count": 142,
     "metadata": {},
     "output_type": "execute_result"
    }
   ],
   "source": [
    "bin_to_float(x_int)"
   ]
  },
  {
   "cell_type": "code",
   "execution_count": null,
   "metadata": {},
   "outputs": [],
   "source": []
  },
  {
   "cell_type": "code",
   "execution_count": 149,
   "metadata": {},
   "outputs": [
    {
     "data": {
      "text/plain": [
       "array([[ True,  True,  True,  True,  True,  True,  True,  True,  True,\n",
       "        False,  True, False],\n",
       "       [ True,  True, False,  True, False, False,  True,  True,  True,\n",
       "         True, False, False],\n",
       "       [ True,  True, False, False,  True, False, False, False, False,\n",
       "         True, False, False],\n",
       "       [ True,  True,  True,  True, False, False, False,  True, False,\n",
       "         True, False, False],\n",
       "       [False,  True,  True, False, False, False, False,  True,  True,\n",
       "        False, False,  True],\n",
       "       [False,  True, False, False,  True,  True, False,  True,  True,\n",
       "        False,  True,  True]])"
      ]
     },
     "execution_count": 149,
     "metadata": {},
     "output_type": "execute_result"
    }
   ],
   "source": [
    "x_genotype = initialize_genotype_population(POPULATION_SIZE, CHROMOSOME_SIZE)\n",
    "x_genotype"
   ]
  },
  {
   "cell_type": "code",
   "execution_count": 150,
   "metadata": {
    "scrolled": true
   },
   "outputs": [
    {
     "name": "stdout",
     "output_type": "stream",
     "text": [
      "CPU times: user 737 µs, sys: 110 µs, total: 847 µs\n",
      "Wall time: 759 µs\n"
     ]
    }
   ],
   "source": [
    "%%time\n",
    "x_phenotype = genotype_to_phenotype(x_genotype, x_min, x_max)"
   ]
  },
  {
   "cell_type": "code",
   "execution_count": 151,
   "metadata": {},
   "outputs": [
    {
     "name": "stdout",
     "output_type": "stream",
     "text": [
      "CPU times: user 447 µs, sys: 0 ns, total: 447 µs\n",
      "Wall time: 453 µs\n"
     ]
    }
   ],
   "source": [
    "%%time\n",
    "evals = evaluate(x_phenotype)"
   ]
  },
  {
   "cell_type": "code",
   "execution_count": 78,
   "metadata": {},
   "outputs": [],
   "source": [
    "def calc_relative_fittness(evals):\n",
    "    return evals/evals.sum()\n",
    "    "
   ]
  },
  {
   "cell_type": "code",
   "execution_count": 79,
   "metadata": {},
   "outputs": [
    {
     "data": {
      "text/plain": [
       "0    0.242354\n",
       "1    0.156953\n",
       "2    0.291445\n",
       "3    0.011162\n",
       "4    0.124136\n",
       "5    0.173951\n",
       "dtype: float64"
      ]
     },
     "execution_count": 79,
     "metadata": {},
     "output_type": "execute_result"
    }
   ],
   "source": [
    "rel_fittness = calc_relative_fittness(evals)\n",
    "rel_fittness"
   ]
  },
  {
   "cell_type": "code",
   "execution_count": 80,
   "metadata": {},
   "outputs": [],
   "source": [
    "def create_mating_pool(genotype_arr, prob_arr):\n",
    "    indeces = np.random.choice(np.arange(len(prob_arr)), size=len(genotype_arr), replace=True, p=prob_arr)\n",
    "    return genotype_arr[indeces]"
   ]
  },
  {
   "cell_type": "code",
   "execution_count": 81,
   "metadata": {},
   "outputs": [],
   "source": [
    "mating_pool = create_mating_pool(x_genotype, rel_fittness)"
   ]
  },
  {
   "cell_type": "code",
   "execution_count": 82,
   "metadata": {},
   "outputs": [
    {
     "data": {
      "text/plain": [
       "array([[False, False,  True,  True,  True,  True, False,  True, False,\n",
       "        False, False, False],\n",
       "       [ True, False, False,  True,  True,  True, False,  True, False,\n",
       "         True, False,  True],\n",
       "       [False, False,  True,  True,  True,  True, False,  True, False,\n",
       "        False, False, False],\n",
       "       [ True, False, False,  True,  True,  True, False,  True, False,\n",
       "         True, False,  True],\n",
       "       [ True, False, False,  True,  True,  True, False,  True, False,\n",
       "         True, False,  True],\n",
       "       [False, False, False, False,  True, False,  True, False, False,\n",
       "         True, False, False]])"
      ]
     },
     "execution_count": 82,
     "metadata": {},
     "output_type": "execute_result"
    }
   ],
   "source": [
    "mating_pool"
   ]
  },
  {
   "cell_type": "code",
   "execution_count": 83,
   "metadata": {},
   "outputs": [],
   "source": [
    "def single_point_crossover(x: List):\n",
    "    \n",
    "    x0 = x[0]\n",
    "    x1 = x[1]\n",
    "    \n",
    "    point = np.random.randint(low = 1, high = x.shape[1])\n",
    "    \n",
    "    x1[:point], x0[:point] = x0[:point], x1[:point].copy()\n",
    "    \n",
    "    return x"
   ]
  },
  {
   "cell_type": "code",
   "execution_count": 84,
   "metadata": {},
   "outputs": [],
   "source": [
    "def flip_bit_mutate(x: np.array, mutation_rate: float = 0.1):\n",
    "    \n",
    "    probs = np.random.rand(x.shape[0], x.shape[1])\n",
    "    \n",
    "    mutat_mask = probs < mutation_rate\n",
    "    \n",
    "    x_mutated = x.copy()\n",
    "    \n",
    "    x_mutated[mutat_mask] = ~x_mutated[mutat_mask]\n",
    "    \n",
    "    return x_mutated\n",
    "    "
   ]
  },
  {
   "cell_type": "code",
   "execution_count": 85,
   "metadata": {},
   "outputs": [],
   "source": [
    "def split_to_chunks(x: Iterable, n: int = 2):\n",
    "    '''\n",
    "    splits x array into evenly sized chunks. \n",
    "    \n",
    "    x: array to split into chunks.\n",
    "    n: number of elements in chunks.\n",
    "    '''\n",
    "    assert len(x) % n == 0, 'length of x should be divisible on n with remainder equal to 0.'\n",
    "    \n",
    "    for i in range(0, len(x), n):\n",
    "        yield x[i:i + n]  "
   ]
  },
  {
   "cell_type": "code",
   "execution_count": 86,
   "metadata": {},
   "outputs": [],
   "source": [
    "def create_next_generation(x: Iterable, splitter: Callable, crossover: Callable, mutate: Callable, crossover_rate: float = 0.5, mutation_rate: float = 0.4):\n",
    "    '''\n",
    "    Performs crossover of individuals.\n",
    "    \n",
    "    x: mating pool of individuals to perform crossover on (2d array). dim0 - is individuals, dim1 - genes;\n",
    "    c_rate: crossover rate. number bewteen 0 and 1. probability that given two individuals perform a crossover. \n",
    "    if two individuals do not perform a crossover according to probability c_r, their off-spring are themselves. \n",
    "    \n",
    "    '''\n",
    "    new_generation = []\n",
    "    \n",
    "    np.random.shuffle(x)\n",
    "    \n",
    "    chunks = splitter(x)\n",
    "\n",
    "    for ch in chunks:\n",
    "        \n",
    "        if np.random.rand() < crossover_rate:\n",
    "            ch = crossover(ch)\n",
    "            \n",
    "        ch = mutate(ch, mutation_rate)\n",
    "            \n",
    "        new_generation.extend(ch)\n",
    "            \n",
    "    return np.array(new_generation)"
   ]
  },
  {
   "cell_type": "code",
   "execution_count": 108,
   "metadata": {},
   "outputs": [],
   "source": [
    "current_gen = create_next_generation(mating_pool, split_to_chunks, single_point_crossover, flip_bit_mutate, crossover_rate=0.8, mutation_rate=0.6)"
   ]
  },
  {
   "cell_type": "code",
   "execution_count": 109,
   "metadata": {},
   "outputs": [
    {
     "data": {
      "text/plain": [
       "array([[1, 0, 0, 0, 1, 0, 1, 1, 0, 0, 1, 0],\n",
       "       [0, 1, 0, 0, 0, 0, 0, 0, 0, 0, 1, 1],\n",
       "       [0, 1, 1, 1, 1, 0, 1, 0, 1, 1, 0, 0],\n",
       "       [0, 1, 0, 1, 1, 0, 0, 0, 1, 0, 0, 1],\n",
       "       [0, 0, 1, 1, 1, 0, 0, 1, 1, 0, 1, 0],\n",
       "       [1, 1, 1, 0, 1, 0, 1, 1, 1, 1, 1, 1]])"
      ]
     },
     "execution_count": 109,
     "metadata": {},
     "output_type": "execute_result"
    }
   ],
   "source": [
    "current_gen.astype(int)"
   ]
  },
  {
   "cell_type": "code",
   "execution_count": 92,
   "metadata": {},
   "outputs": [
    {
     "data": {
      "text/plain": [
       "array([[1, 0, 0, 1, 1, 1, 0, 1, 0, 1, 0, 1],\n",
       "       [1, 0, 0, 1, 1, 1, 0, 1, 0, 1, 0, 1],\n",
       "       [0, 0, 1, 1, 1, 1, 0, 0, 0, 1, 0, 0],\n",
       "       [0, 0, 1, 1, 1, 1, 0, 1, 0, 0, 0, 0],\n",
       "       [1, 0, 0, 1, 1, 1, 0, 1, 0, 0, 0, 0],\n",
       "       [0, 0, 0, 0, 1, 0, 1, 1, 0, 1, 0, 1]])"
      ]
     },
     "execution_count": 92,
     "metadata": {},
     "output_type": "execute_result"
    }
   ],
   "source": [
    "mating_pool.astype(int)"
   ]
  },
  {
   "cell_type": "code",
   "execution_count": null,
   "metadata": {},
   "outputs": [],
   "source": []
  },
  {
   "cell_type": "code",
   "execution_count": null,
   "metadata": {},
   "outputs": [],
   "source": []
  },
  {
   "cell_type": "code",
   "execution_count": null,
   "metadata": {},
   "outputs": [],
   "source": []
  },
  {
   "cell_type": "code",
   "execution_count": null,
   "metadata": {},
   "outputs": [],
   "source": []
  },
  {
   "cell_type": "code",
   "execution_count": null,
   "metadata": {},
   "outputs": [],
   "source": []
  },
  {
   "cell_type": "code",
   "execution_count": null,
   "metadata": {},
   "outputs": [],
   "source": []
  },
  {
   "cell_type": "code",
   "execution_count": 36,
   "metadata": {},
   "outputs": [],
   "source": [
    "threshold = 0.5"
   ]
  },
  {
   "cell_type": "code",
   "execution_count": 24,
   "metadata": {},
   "outputs": [
    {
     "data": {
      "text/plain": [
       "array([[0.93044014, 0.91084093, 0.52710114, 0.54962189, 0.2810227 ,\n",
       "        0.06790312, 0.79672629, 0.07770015, 0.74706906, 0.89533534,\n",
       "        0.9813172 , 0.61324398],\n",
       "       [0.08070496, 0.6997923 , 0.29712234, 0.67873172, 0.34556672,\n",
       "        0.29118508, 0.17965867, 0.56863655, 0.58720649, 0.08113324,\n",
       "        0.41847542, 0.63251462],\n",
       "       [0.78848199, 0.71696768, 0.30451469, 0.97284076, 0.06229457,\n",
       "        0.76860844, 0.99326829, 0.00416695, 0.76762551, 0.5484852 ,\n",
       "        0.1392219 , 0.21698107]])"
      ]
     },
     "execution_count": 24,
     "metadata": {},
     "output_type": "execute_result"
    }
   ],
   "source": [
    "probs = np.random.rand(x.shape[0], x.shape[1])\n",
    "probs"
   ]
  },
  {
   "cell_type": "code",
   "execution_count": 25,
   "metadata": {},
   "outputs": [
    {
     "data": {
      "text/plain": [
       "array([[False, False, False, False,  True,  True, False,  True, False,\n",
       "        False, False, False],\n",
       "       [ True, False,  True, False,  True,  True,  True, False, False,\n",
       "         True,  True, False],\n",
       "       [False, False,  True, False,  True, False, False,  True, False,\n",
       "        False,  True,  True]])"
      ]
     },
     "execution_count": 25,
     "metadata": {},
     "output_type": "execute_result"
    }
   ],
   "source": [
    "mutat_mask = probs < threshold\n",
    "mutat_mask"
   ]
  },
  {
   "cell_type": "code",
   "execution_count": 26,
   "metadata": {},
   "outputs": [],
   "source": [
    "x[mutat_mask] = ~x[mutat_mask]"
   ]
  },
  {
   "cell_type": "code",
   "execution_count": 27,
   "metadata": {},
   "outputs": [
    {
     "data": {
      "text/plain": [
       "array([[ True, False, False, False, False, False,  True,  True,  True,\n",
       "        False,  True,  True],\n",
       "       [False,  True,  True, False, False,  True,  True, False, False,\n",
       "         True, False,  True],\n",
       "       [ True,  True,  True,  True,  True,  True,  True,  True, False,\n",
       "         True,  True, False]])"
      ]
     },
     "execution_count": 27,
     "metadata": {},
     "output_type": "execute_result"
    }
   ],
   "source": [
    "x"
   ]
  },
  {
   "cell_type": "code",
   "execution_count": null,
   "metadata": {},
   "outputs": [],
   "source": []
  },
  {
   "cell_type": "code",
   "execution_count": 28,
   "metadata": {},
   "outputs": [
    {
     "data": {
      "text/plain": [
       "array([[ True, False,  True,  True,  True, False],\n",
       "       [False,  True, False, False,  True, False]])"
      ]
     },
     "execution_count": 28,
     "metadata": {},
     "output_type": "execute_result"
    }
   ],
   "source": [
    "x = np.array([[1, 0, 1, 1, 1, 0],[0, 1, 0, 0, 1, 0]], dtype=bool)\n",
    "x"
   ]
  },
  {
   "cell_type": "code",
   "execution_count": 29,
   "metadata": {},
   "outputs": [
    {
     "data": {
      "text/plain": [
       "array([[False, False,  True,  True,  True, False],\n",
       "       [False,  True, False, False,  True, False]])"
      ]
     },
     "execution_count": 29,
     "metadata": {},
     "output_type": "execute_result"
    }
   ],
   "source": [
    "flip_bit_mutate(x)"
   ]
  },
  {
   "cell_type": "code",
   "execution_count": 31,
   "metadata": {},
   "outputs": [
    {
     "data": {
      "text/plain": [
       "array([[0, 0, 1, 1, 1, 0],\n",
       "       [0, 1, 0, 0, 1, 0]])"
      ]
     },
     "execution_count": 31,
     "metadata": {},
     "output_type": "execute_result"
    }
   ],
   "source": [
    "x.astype(int)"
   ]
  },
  {
   "cell_type": "code",
   "execution_count": null,
   "metadata": {},
   "outputs": [],
   "source": []
  },
  {
   "cell_type": "code",
   "execution_count": null,
   "metadata": {},
   "outputs": [],
   "source": []
  },
  {
   "cell_type": "code",
   "execution_count": null,
   "metadata": {},
   "outputs": [],
   "source": []
  }
 ],
 "metadata": {
  "kernelspec": {
   "display_name": "Python 3",
   "language": "python",
   "name": "python3"
  },
  "language_info": {
   "codemirror_mode": {
    "name": "ipython",
    "version": 3
   },
   "file_extension": ".py",
   "mimetype": "text/x-python",
   "name": "python",
   "nbconvert_exporter": "python",
   "pygments_lexer": "ipython3",
   "version": "3.8.1"
  }
 },
 "nbformat": 4,
 "nbformat_minor": 4
}
