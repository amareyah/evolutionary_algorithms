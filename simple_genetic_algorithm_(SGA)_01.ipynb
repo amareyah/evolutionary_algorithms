{
 "cells": [
  {
   "cell_type": "code",
   "execution_count": 1,
   "metadata": {},
   "outputs": [],
   "source": [
    "import numpy as np\n",
    "import pandas as pd\n",
    "import matplotlib.pyplot as plt\n",
    "\n",
    "from typing import Iterable, Tuple, List, Callable"
   ]
  },
  {
   "cell_type": "code",
   "execution_count": 2,
   "metadata": {},
   "outputs": [],
   "source": [
    "def objective_func(x):\n",
    "    return x * np.sin(10 * np.pi * x) + 2.0"
   ]
  },
  {
   "cell_type": "code",
   "execution_count": 3,
   "metadata": {},
   "outputs": [
    {
     "name": "stdout",
     "output_type": "stream",
     "text": [
      "10\n"
     ]
    }
   ],
   "source": [
    "CHROMOSOME_SIZE = 12\n",
    "POPULATION_SIZE = 10\n",
    "CROSSOVER_RATE = 0.8\n",
    "\n",
    "x_min = -1\n",
    "x_max = 2\n",
    "\n",
    "print(POPULATION_SIZE)"
   ]
  },
  {
   "cell_type": "code",
   "execution_count": 4,
   "metadata": {},
   "outputs": [],
   "source": [
    "x_range = np.linspace(x_min,x_max, 100)\n",
    "y_range = objective_func(x_range)"
   ]
  },
  {
   "cell_type": "code",
   "execution_count": 5,
   "metadata": {},
   "outputs": [
    {
     "data": {
      "text/plain": [
       "[<matplotlib.lines.Line2D at 0x1dbdb55eb08>]"
      ]
     },
     "execution_count": 5,
     "metadata": {},
     "output_type": "execute_result"
    },
    {
     "data": {
      "image/png": "[encoded data removed]",
      "text/plain": [
       "<Figure size 432x288 with 1 Axes>"
      ]
     },
     "metadata": {
      "needs_background": "light"
     },
     "output_type": "display_data"
    }
   ],
   "source": [
    "plt.plot(x_range, objective_func(x_range))"
   ]
  },
  {
   "cell_type": "code",
   "execution_count": 6,
   "metadata": {},
   "outputs": [],
   "source": [
    "def bin_to_float(bin_arr, a = 0, b = 1):\n",
    "    \n",
    "    dec = np.power(2, np.arange(len(bin_arr))) @ bin_arr\n",
    "    \n",
    "    zero_one_range = dec / (2**len(bin_arr))\n",
    "    \n",
    "    real_num = zero_one_range * (b - a) + a\n",
    "    \n",
    "    return real_num\n",
    "\n",
    "\n",
    "def initialize_genotype_population(population_size, chromo_size):\n",
    "    \n",
    "    x = np.random.randint(low = 0, high = 2, size = (population_size, chromo_size))\n",
    "    \n",
    "    return x\n",
    "    \n",
    "\n",
    "def genotype_to_phenotype(x, x_min=0, x_max=1):\n",
    "    \n",
    "    df = pd.DataFrame(x)\n",
    "    \n",
    "    return df.apply(bin_to_float, axis=1, raw=True, a=x_min, b=x_max)"
   ]
  },
  {
   "cell_type": "code",
   "execution_count": 7,
   "metadata": {},
   "outputs": [],
   "source": [
    "def evaluate(x_phenotype):\n",
    "    return x_phenotype.map(objective_func)"
   ]
  },
  {
   "cell_type": "code",
   "execution_count": 8,
   "metadata": {
    "scrolled": true
   },
   "outputs": [
    {
     "data": {
      "text/plain": [
       "array([[0, 0, 1, 1, 0, 0, 1, 1, 1, 1, 0, 0],\n",
       "       [0, 1, 1, 0, 0, 0, 1, 0, 1, 1, 1, 0],\n",
       "       [1, 1, 0, 1, 0, 1, 1, 0, 0, 1, 0, 1]])"
      ]
     },
     "execution_count": 8,
     "metadata": {},
     "output_type": "execute_result"
    }
   ],
   "source": [
    "x = np.concatenate((np.random.randint(low=0, high=2,size=(2,12)),np.array([[1, 1, 0, 1, 0, 1, 1, 0, 0, 1, 0, 1]])))\n",
    "x"
   ]
  },
  {
   "cell_type": "code",
   "execution_count": 9,
   "metadata": {},
   "outputs": [
    {
     "data": {
      "text/plain": [
       "array([[0, 0, 1, 0, 1, 1, 0, 0, 1, 1, 1, 1],\n",
       "       [0, 0, 0, 1, 1, 1, 0, 0, 1, 0, 1, 0],\n",
       "       [1, 1, 1, 1, 1, 0, 1, 0, 1, 1, 1, 1],\n",
       "       [1, 1, 1, 1, 1, 1, 0, 1, 0, 1, 1, 0],\n",
       "       [0, 0, 1, 1, 0, 1, 1, 1, 1, 1, 0, 0],\n",
       "       [1, 0, 1, 0, 0, 1, 1, 1, 1, 1, 0, 1],\n",
       "       [1, 0, 0, 1, 1, 0, 1, 0, 0, 0, 1, 1],\n",
       "       [1, 0, 0, 1, 0, 0, 1, 1, 0, 0, 0, 0],\n",
       "       [0, 0, 0, 0, 0, 1, 1, 0, 1, 0, 0, 0],\n",
       "       [0, 1, 0, 1, 1, 0, 1, 0, 1, 1, 1, 1]])"
      ]
     },
     "execution_count": 9,
     "metadata": {},
     "output_type": "execute_result"
    }
   ],
   "source": [
    "x_genotype = initialize_genotype_population(POPULATION_SIZE, CHROMOSOME_SIZE)\n",
    "x_genotype"
   ]
  },
  {
   "cell_type": "code",
   "execution_count": 10,
   "metadata": {
    "scrolled": true
   },
   "outputs": [
    {
     "name": "stdout",
     "output_type": "stream",
     "text": [
      "Wall time: 31.2 ms\n"
     ]
    }
   ],
   "source": [
    "%%time\n",
    "x_phenotype = genotype_to_phenotype(x_genotype, x_min, x_max)"
   ]
  },
  {
   "cell_type": "code",
   "execution_count": 11,
   "metadata": {},
   "outputs": [
    {
     "name": "stdout",
     "output_type": "stream",
     "text": [
      "Wall time: 0 ns\n"
     ]
    }
   ],
   "source": [
    "%%time\n",
    "evals = evaluate(x_phenotype)"
   ]
  },
  {
   "cell_type": "code",
   "execution_count": 12,
   "metadata": {},
   "outputs": [],
   "source": [
    "def calc_relative_fittness(evals):\n",
    "    return evals/evals.sum()\n",
    "    "
   ]
  },
  {
   "cell_type": "code",
   "execution_count": 13,
   "metadata": {},
   "outputs": [
    {
     "data": {
      "text/plain": [
       "0    0.153728\n",
       "1    0.080389\n",
       "2    0.119958\n",
       "3    0.089293\n",
       "4    0.089320\n",
       "5    0.119794\n",
       "6    0.055741\n",
       "7    0.113772\n",
       "8    0.051108\n",
       "9    0.126896\n",
       "dtype: float64"
      ]
     },
     "execution_count": 13,
     "metadata": {},
     "output_type": "execute_result"
    }
   ],
   "source": [
    "rel_fittness = calc_relative_fittness(evals)\n",
    "rel_fittness"
   ]
  },
  {
   "cell_type": "code",
   "execution_count": 14,
   "metadata": {},
   "outputs": [],
   "source": [
    "def create_mating_pool(genotype_arr, prob_arr):\n",
    "    indeces = np.random.choice(np.arange(len(prob_arr)), size=len(genotype_arr), replace=True, p=prob_arr)\n",
    "    return genotype_arr[indeces]"
   ]
  },
  {
   "cell_type": "code",
   "execution_count": 15,
   "metadata": {},
   "outputs": [],
   "source": [
    "mating_pool = create_mating_pool(x_genotype, rel_fittness)"
   ]
  },
  {
   "cell_type": "code",
   "execution_count": 16,
   "metadata": {},
   "outputs": [
    {
     "data": {
      "text/plain": [
       "array([[1, 0, 0, 1, 0, 0, 1, 1, 0, 0, 0, 0],\n",
       "       [0, 0, 0, 1, 1, 1, 0, 0, 1, 0, 1, 0],\n",
       "       [0, 0, 1, 1, 0, 1, 1, 1, 1, 1, 0, 0],\n",
       "       [0, 1, 0, 1, 1, 0, 1, 0, 1, 1, 1, 1],\n",
       "       [0, 0, 0, 1, 1, 1, 0, 0, 1, 0, 1, 0],\n",
       "       [0, 0, 0, 1, 1, 1, 0, 0, 1, 0, 1, 0],\n",
       "       [0, 1, 0, 1, 1, 0, 1, 0, 1, 1, 1, 1],\n",
       "       [0, 0, 0, 0, 0, 1, 1, 0, 1, 0, 0, 0],\n",
       "       [0, 0, 0, 1, 1, 1, 0, 0, 1, 0, 1, 0],\n",
       "       [1, 1, 1, 1, 1, 1, 0, 1, 0, 1, 1, 0]])"
      ]
     },
     "execution_count": 16,
     "metadata": {},
     "output_type": "execute_result"
    }
   ],
   "source": [
    "mating_pool"
   ]
  },
  {
   "cell_type": "code",
   "execution_count": 17,
   "metadata": {},
   "outputs": [],
   "source": [
    "def make_crossover(x: List):\n",
    "    print(f'crossover:\\n{x}')\n",
    "    return x"
   ]
  },
  {
   "cell_type": "code",
   "execution_count": 18,
   "metadata": {},
   "outputs": [],
   "source": [
    "def split_to_chunks(x: Iterable, n: int):\n",
    "    '''\n",
    "    splits x array into evenly sized chunks. \n",
    "    x: array to split into chunks.\n",
    "    n: number of elements in chunks.\n",
    "    '''\n",
    "    assert len(x) % n == 0, 'length of x should be divisible on n with remainder equal to 0.'\n",
    "    \n",
    "    for i in range(0, len(x), n):\n",
    "        yield x[i:i + n]  "
   ]
  },
  {
   "cell_type": "code",
   "execution_count": 19,
   "metadata": {},
   "outputs": [],
   "source": [
    "def create_next_generation(x: Iterable, c_r: float = 0.5, splitter: Callable, crossover: Callable):\n",
    "    '''\n",
    "    Performs crossover of individuals.\n",
    "    \n",
    "    x: mating pool of individuals to perform crossover on (2d array). dim0 - is individuals, dim1 - genes;\n",
    "    c_r: crossover rate. number bewteen 0 and 1. probability that given two individuals perform a crossover. \n",
    "    if two individuals do not perform a crossover according to probability c_r, their off-spring are themselves. \n",
    "    \n",
    "    '''\n",
    "    new_generation = []\n",
    "    \n",
    "    np.random.shuffle(x)\n",
    "    \n",
    "    chunks = split_to_chunks(x, 2)\n",
    "    \n",
    "    for ch in chunks:\n",
    "        if np.random.rand() < c_r:\n",
    "            offsprings = make_crossover(ch)\n",
    "            new_generation.extend(offsprings)\n",
    "        else:\n",
    "            print(f'No crossover\\n{ch}')\n",
    "            new_generation.extend(ch)\n",
    "            \n",
    "    return np.array(new_generation)"
   ]
  },
  {
   "cell_type": "code",
   "execution_count": 20,
   "metadata": {},
   "outputs": [
    {
     "name": "stdout",
     "output_type": "stream",
     "text": [
      "No crossover\n",
      "[[0 0 0 1 1 1 0 0 1 0 1 0]\n",
      " [0 1 0 1 1 0 1 0 1 1 1 1]]\n",
      "crossover:\n",
      "[[0 0 0 0 0 1 1 0 1 0 0 0]\n",
      " [0 0 0 1 1 1 0 0 1 0 1 0]]\n",
      "crossover:\n",
      "[[0 0 0 1 1 1 0 0 1 0 1 0]\n",
      " [0 0 0 1 1 1 0 0 1 0 1 0]]\n",
      "crossover:\n",
      "[[1 0 0 1 0 0 1 1 0 0 0 0]\n",
      " [0 0 1 1 0 1 1 1 1 1 0 0]]\n",
      "No crossover\n",
      "[[1 1 1 1 1 1 0 1 0 1 1 0]\n",
      " [0 1 0 1 1 0 1 0 1 1 1 1]]\n"
     ]
    },
    {
     "data": {
      "text/plain": [
       "array([[0, 0, 0, 1, 1, 1, 0, 0, 1, 0, 1, 0],\n",
       "       [0, 1, 0, 1, 1, 0, 1, 0, 1, 1, 1, 1],\n",
       "       [0, 0, 0, 0, 0, 1, 1, 0, 1, 0, 0, 0],\n",
       "       [0, 0, 0, 1, 1, 1, 0, 0, 1, 0, 1, 0],\n",
       "       [0, 0, 0, 1, 1, 1, 0, 0, 1, 0, 1, 0],\n",
       "       [0, 0, 0, 1, 1, 1, 0, 0, 1, 0, 1, 0],\n",
       "       [1, 0, 0, 1, 0, 0, 1, 1, 0, 0, 0, 0],\n",
       "       [0, 0, 1, 1, 0, 1, 1, 1, 1, 1, 0, 0],\n",
       "       [1, 1, 1, 1, 1, 1, 0, 1, 0, 1, 1, 0],\n",
       "       [0, 1, 0, 1, 1, 0, 1, 0, 1, 1, 1, 1]])"
      ]
     },
     "execution_count": 20,
     "metadata": {},
     "output_type": "execute_result"
    }
   ],
   "source": [
    "crossover(mating_pool)"
   ]
  },
  {
   "cell_type": "code",
   "execution_count": null,
   "metadata": {},
   "outputs": [],
   "source": []
  },
  {
   "cell_type": "code",
   "execution_count": null,
   "metadata": {},
   "outputs": [],
   "source": []
  }
 ],
 "metadata": {
  "kernelspec": {
   "display_name": "Python 3",
   "language": "python",
   "name": "python3"
  },
  "language_info": {
   "codemirror_mode": {
    "name": "ipython",
    "version": 3
   },
   "file_extension": ".py",
   "mimetype": "text/x-python",
   "name": "python",
   "nbconvert_exporter": "python",
   "pygments_lexer": "ipython3",
   "version": "3.7.6"
  }
 },
 "nbformat": 4,
 "nbformat_minor": 4
}
